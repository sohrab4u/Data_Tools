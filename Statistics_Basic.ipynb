{
  "nbformat": 4,
  "nbformat_minor": 0,
  "metadata": {
    "colab": {
      "provenance": [],
      "authorship_tag": "ABX9TyOprNI9WIVEBYd7F570QdZd",
      "include_colab_link": true
    },
    "kernelspec": {
      "name": "python3",
      "display_name": "Python 3"
    },
    "language_info": {
      "name": "python"
    }
  },
  "cells": [
    {
      "cell_type": "markdown",
      "metadata": {
        "id": "view-in-github",
        "colab_type": "text"
      },
      "source": [
        "<a href=\"https://colab.research.google.com/github/sohrab4u/Data_Tools/blob/main/Statistics_Basic.ipynb\" target=\"_parent\"><img src=\"https://colab.research.google.com/assets/colab-badge.svg\" alt=\"Open In Colab\"/></a>"
      ]
    },
    {
      "cell_type": "markdown",
      "source": [
        "**Statistics Basic**"
      ],
      "metadata": {
        "id": "IgAtf7yHoS-j"
      }
    },
    {
      "cell_type": "markdown",
      "source": [
        "1. What is statistics, and why is it important?\n",
        "  - Statistics is the science of collecting, analyzing, interpreting, and presenting data. It’s important because it helps make informed decisions, identify trends, and predict outcomes in fields like science, business, and policy."
      ],
      "metadata": {
        "id": "YEiYWbZKoV40"
      }
    },
    {
      "cell_type": "markdown",
      "source": [
        "2. What are the two main types of statistics?\n",
        "  - The two main types are descriptive statistics, which summarize data, and inferential statistics, which draw conclusions from data."
      ],
      "metadata": {
        "id": "EC8Jku68od9_"
      }
    },
    {
      "cell_type": "markdown",
      "source": [
        "3. What are descriptive statistics?\n",
        "  - Descriptive statistics summarize and describe data using measures like mean, median, mode, and standard deviation."
      ],
      "metadata": {
        "id": "Dj-Ur8bjoj5v"
      }
    },
    {
      "cell_type": "markdown",
      "source": [
        "4. What are inferential statistics?\n",
        "  - Inferential statistics use sample data to make predictions or inferences about a population, often through hypothesis testing or confidence intervals."
      ],
      "metadata": {
        "id": "C0AbXrecop3h"
      }
    },
    {
      "cell_type": "markdown",
      "source": [
        "5. What is sampling in statistics?\n",
        "  - Sampling is selecting a subset of a population to study, representing the whole group for analysis."
      ],
      "metadata": {
        "id": "O5GXq7VKovsH"
      }
    },
    {
      "cell_type": "markdown",
      "source": [
        "6. What are the different types of sampling methods?\n",
        "  - Common types include random sampling, stratified sampling, cluster sampling, and systematic sampling."
      ],
      "metadata": {
        "id": "Fr_mhtxro0zA"
      }
    },
    {
      "cell_type": "markdown",
      "source": [
        "7. What is the difference between random and non-random sampling?\n",
        "  - Random sampling gives every individual an equal chance of selection (e.g., simple random sampling), while non-random sampling uses specific criteria (e.g., purposive sampling)."
      ],
      "metadata": {
        "id": "l6PoHiF7o520"
      }
    },
    {
      "cell_type": "markdown",
      "source": [
        "8. Define and give examples of qualitative and quantitative data.\n",
        "  - Qualitative data describes qualities (e.g., colors: red, blue). Quantitative data involves numbers (e.g., heights: 170 cm, 180 cm)."
      ],
      "metadata": {
        "id": "t9h6kd0po_LP"
      }
    },
    {
      "cell_type": "markdown",
      "source": [
        "9. What are the different types of data in statistics?\n",
        "  - Types include qualitative (categorical) and quantitative (numerical), further divided into discrete (countable) and continuous (measurable)."
      ],
      "metadata": {
        "id": "CuDqCtQspD2v"
      }
    },
    {
      "cell_type": "markdown",
      "source": [
        "10. Explain nominal, ordinal, interval, and ratio levels of measurement.\n",
        "  - Nominal: Categories without order (e.g., gender). Ordinal: Ordered categories (e.g., rankings). Interval: Ordered with equal intervals, no true zero (e.g., temperature in Celsius). Ratio: Equal intervals with a true zero (e.g., weight)."
      ],
      "metadata": {
        "id": "4F0Lapc0pJaP"
      }
    },
    {
      "cell_type": "markdown",
      "source": [
        "11. What is the measure of central tendency?\n",
        "  - It’s a single value representing the center of a dataset, such as mean, median, or mode."
      ],
      "metadata": {
        "id": "uM2pv13xpPlH"
      }
    },
    {
      "cell_type": "markdown",
      "source": [
        "12. Define mean, median, and mode.\n",
        "  - Mean: Average (sum of values divided by count). Median: Middle value when ordered. Mode: Most frequent value."
      ],
      "metadata": {
        "id": "0mRuxP3DpWe1"
      }
    },
    {
      "cell_type": "markdown",
      "source": [
        "13. What is the significance of the measure of central tendency?\n",
        "  - It summarizes data with a single representative value, helping understand typical values in a dataset."
      ],
      "metadata": {
        "id": "XzSAyoY0pcXQ"
      }
    },
    {
      "cell_type": "markdown",
      "source": [
        "14. What is variance, and how is it calculated?\n",
        "  - Variance measures data spread. In Python: np.var(data) (NumPy) calculates it as the average of squared differences from the mean."
      ],
      "metadata": {
        "id": "DixENiSRpifV"
      }
    },
    {
      "cell_type": "markdown",
      "source": [
        "15. What is standard deviation, and why is it important?\n",
        "  - Standard deviation is the square root of variance, showing data spread. It’s important for understanding data variability and consistency."
      ],
      "metadata": {
        "id": "UY8gQSP5pnfP"
      }
    },
    {
      "cell_type": "markdown",
      "source": [
        "16. Define and explain the term range in statistics.\n",
        "  - Range is the difference between the maximum and minimum values in a dataset, indicating data spread. In Python: max(data) - min(data)."
      ],
      "metadata": {
        "id": "HxI9-FnLps9t"
      }
    },
    {
      "cell_type": "markdown",
      "source": [
        "17. What is the difference between variance and standard deviation?\n",
        "  - Variance measures spread in squared units; standard deviation is its square root, in the same units as the data, making it more interpretable."
      ],
      "metadata": {
        "id": "ltfjW2StpzWz"
      }
    },
    {
      "cell_type": "markdown",
      "source": [
        "18. What is skewness in a dataset?\n",
        "  - Skewness measures asymmetry in a dataset’s distribution. Positive skew has a longer right tail; negative skew has a longer left tail."
      ],
      "metadata": {
        "id": "ysCFXs65p5Tf"
      }
    },
    {
      "cell_type": "markdown",
      "source": [
        "19. What does it mean if a dataset is positively or negatively skewed?\n",
        "  - Positively skewed: Right tail is longer (e.g., income distributions). Negatively skewed: Left tail is longer (e.g., time to failure of machines)."
      ],
      "metadata": {
        "id": "C1tZhxG3p-vf"
      }
    },
    {
      "cell_type": "markdown",
      "source": [
        "20. Define and explain kurtosis.\n",
        "  - Kurtosis measures the \"tailedness\" of a distribution. High kurtosis means more outliers; low kurtosis means a flatter distribution."
      ],
      "metadata": {
        "id": "QMIG9FfgqE_V"
      }
    },
    {
      "cell_type": "markdown",
      "source": [
        "21. What is the purpose of covariance?\n",
        "  - Covariance measures how two variables change together. Positive means they increase together; negative means one increases as the other decreases."
      ],
      "metadata": {
        "id": "rHEm6MPTqKM7"
      }
    },
    {
      "cell_type": "markdown",
      "source": [
        "22. What does correlation measure in statistics?\n",
        "  - Correlation measures the strength and direction of a linear relationship between two variables, ranging from -1 to 1."
      ],
      "metadata": {
        "id": "Y_6NlKRbqQHV"
      }
    },
    {
      "cell_type": "markdown",
      "source": [
        "23. What is the difference between covariance and correlation?\n",
        "  - Covariance shows the direction of the relationship but not strength; correlation standardizes it to a -1 to 1 scale, showing both direction and strength."
      ],
      "metadata": {
        "id": "Zt_uarbdqV2d"
      }
    },
    {
      "cell_type": "markdown",
      "source": [
        "24. What are some real-world applications of statistics?\n",
        "  - Applications include predicting election outcomes, analyzing medical trial results, optimizing business strategies, and forecasting weather."
      ],
      "metadata": {
        "id": "A-WnQtPWqbh1"
      }
    },
    {
      "cell_type": "markdown",
      "source": [
        "**Practical**"
      ],
      "metadata": {
        "id": "AMY8J7BRqhIk"
      }
    },
    {
      "cell_type": "code",
      "source": [
        "#1. How do you calculate the mean, median, and mode of a dataset?\n",
        "import numpy as np\n",
        "from scipy import stats\n",
        "\n",
        "data = [1, 2, 3, 4, 4, 5]\n",
        "mean = np.mean(data)\n",
        "median = np.median(data)\n",
        "mode = stats.mode(data).mode  # Access the mode directly from ModeResult\n",
        "\n",
        "print(f\"Mean: {mean}, Median: {median}, Mode: {mode}\")"
      ],
      "metadata": {
        "colab": {
          "base_uri": "https://localhost:8080/"
        },
        "id": "-LFVvLxCyjvG",
        "outputId": "2a4208e2-07d4-4379-c148-ad3fd4a530a9"
      },
      "execution_count": 2,
      "outputs": [
        {
          "output_type": "stream",
          "name": "stdout",
          "text": [
            "Mean: 3.1666666666666665, Median: 3.5, Mode: 4\n"
          ]
        }
      ]
    },
    {
      "cell_type": "code",
      "source": [
        "#2. Write a Python program to compute the variance and standard deviation of a dataset.\n",
        "import numpy as np\n",
        "\n",
        "data = [1, 2, 3, 4, 5]\n",
        "variance = np.var(data)\n",
        "std_dev = np.std(data)\n",
        "\n",
        "print(f\"Variance: {variance}, Standard Deviation: {std_dev}\")"
      ],
      "metadata": {
        "colab": {
          "base_uri": "https://localhost:8080/"
        },
        "id": "_LeR8PfDzEl6",
        "outputId": "3a6d2d5c-599a-4765-e252-d2122f5b61fc"
      },
      "execution_count": 3,
      "outputs": [
        {
          "output_type": "stream",
          "name": "stdout",
          "text": [
            "Variance: 2.0, Standard Deviation: 1.4142135623730951\n"
          ]
        }
      ]
    },
    {
      "cell_type": "code",
      "source": [
        "#3. Create a dataset and classify it into nominal, ordinal, interval, and ratio types.\n",
        "# Nominal: Categories without order\n",
        "nominal = [\"red\", \"blue\", \"green\"]\n",
        "ordinal = [\"low\", \"medium\", \"high\"]\n",
        "interval = [0, 10, 20]  # Temperature in Celsius\n",
        "ratio = [170, 180, 190]  # Heights in cm\n",
        "\n",
        "print(f\"Nominal: {nominal}\")\n",
        "print(f\"Ordinal: {ordinal}\")\n",
        "print(f\"Interval: {interval}\")\n",
        "print(f\"Ratio: {ratio}\")"
      ],
      "metadata": {
        "colab": {
          "base_uri": "https://localhost:8080/"
        },
        "id": "eyjNKqdkzMbG",
        "outputId": "99bfd3c8-03bf-41b3-dc8d-7c4098facc39"
      },
      "execution_count": 9,
      "outputs": [
        {
          "output_type": "stream",
          "name": "stdout",
          "text": [
            "Nominal: ['red', 'blue', 'green']\n",
            "Ordinal: ['low', 'medium', 'high']\n",
            "Interval: [0, 10, 20]\n",
            "Ratio: [170, 180, 190]\n"
          ]
        }
      ]
    },
    {
      "cell_type": "code",
      "source": [
        "#4. Implement sampling techniques like random sampling and stratified sampling.\n",
        "import numpy as np\n",
        "import pandas as pd\n",
        "\n",
        "data = np.arange(100)\n",
        "random_sample = np.random.choice(data, size=10, replace=False)\n",
        "\n",
        "df = pd.DataFrame({\n",
        "    'value': range(100),\n",
        "    'group': ['A']*50 + ['B']*50\n",
        "})\n",
        "stratified_sample = df.groupby('group', group_keys=False).apply(lambda x: x.sample(5))\n",
        "\n",
        "print(f\"Random Sample: {random_sample}\")\n",
        "print(f\"Stratified Sample:\\n{stratified_sample}\")"
      ],
      "metadata": {
        "colab": {
          "base_uri": "https://localhost:8080/"
        },
        "id": "QtkHEeJNzVXJ",
        "outputId": "06e7cb9d-1b34-408f-c9bc-998a72b84093"
      },
      "execution_count": 8,
      "outputs": [
        {
          "output_type": "stream",
          "name": "stdout",
          "text": [
            "Random Sample: [34 23 38 14 35 79 33 67 12  1]\n",
            "Stratified Sample:\n",
            "    value group\n",
            "34     34     A\n",
            "29     29     A\n",
            "47     47     A\n",
            "23     23     A\n",
            "4       4     A\n",
            "83     83     B\n",
            "86     86     B\n",
            "56     56     B\n",
            "77     77     B\n",
            "85     85     B\n"
          ]
        },
        {
          "output_type": "stream",
          "name": "stderr",
          "text": [
            "<ipython-input-8-00fe41f71bd8>:12: DeprecationWarning: DataFrameGroupBy.apply operated on the grouping columns. This behavior is deprecated, and in a future version of pandas the grouping columns will be excluded from the operation. Either pass `include_groups=False` to exclude the groupings or explicitly select the grouping columns after groupby to silence this warning.\n",
            "  stratified_sample = df.groupby('group', group_keys=False).apply(lambda x: x.sample(5))\n"
          ]
        }
      ]
    },
    {
      "cell_type": "code",
      "source": [
        "#5. Write a Python function to calculate the range of a dataset.\n",
        "def calculate_range(data):\n",
        "    return max(data) - min(data)\n",
        "\n",
        "data = [1, 2, 3, 4, 5]\n",
        "data_range = calculate_range(data)\n",
        "\n",
        "print(f\"Range: {data_range}\")"
      ],
      "metadata": {
        "colab": {
          "base_uri": "https://localhost:8080/"
        },
        "id": "R-FLG4zqzZPk",
        "outputId": "a6ca61a4-0ce4-4a9a-d9ad-bffc5e786d82"
      },
      "execution_count": 6,
      "outputs": [
        {
          "output_type": "stream",
          "name": "stdout",
          "text": [
            "Range: 4\n"
          ]
        }
      ]
    },
    {
      "cell_type": "code",
      "source": [
        "#6. Create a dataset and plot its histogram to visualize skewness.\n",
        "import numpy as np\n",
        "import matplotlib.pyplot as plt\n",
        "\n",
        "data = np.random.exponential(scale=2, size=1000)\n",
        "plt.hist(data, bins=30, color='blue', alpha=0.7)\n",
        "plt.title(\"Histogram Showing Positive Skewness\")\n",
        "plt.xlabel(\"Value\")\n",
        "plt.ylabel(\"Frequency\")\n",
        "plt.show()"
      ],
      "metadata": {
        "colab": {
          "base_uri": "https://localhost:8080/",
          "height": 472
        },
        "id": "4iXdP5XIzgCQ",
        "outputId": "24b6e29a-ecc4-4f8e-c612-e92a60c3a9f2"
      },
      "execution_count": 7,
      "outputs": [
        {
          "output_type": "display_data",
          "data": {
            "text/plain": [
              "<Figure size 640x480 with 1 Axes>"
            ],
            "image/png": "[encoded data removed]"
          },
          "metadata": {}
        }
      ]
    },
    {
      "cell_type": "code",
      "source": [
        "#7. Calculate skewness and kurtosis of a dataset using Python libraries.\n",
        "import numpy as np\n",
        "from scipy.stats import skew, kurtosis\n",
        "\n",
        "data = np.random.exponential(scale=2, size=1000)\n",
        "data_skewness = skew(data)\n",
        "data_kurtosis = kurtosis(data)\n",
        "\n",
        "print(f\"Skewness: {data_skewness}, Kurtosis: {data_kurtosis}\")"
      ],
      "metadata": {
        "colab": {
          "base_uri": "https://localhost:8080/"
        },
        "id": "KbB4Qk_hz8pD",
        "outputId": "0fc31d3c-39a9-458e-fe3c-59f6638bc187"
      },
      "execution_count": 10,
      "outputs": [
        {
          "output_type": "stream",
          "name": "stdout",
          "text": [
            "Skewness: 1.7916023714369185, Kurtosis: 4.380648818101469\n"
          ]
        }
      ]
    },
    {
      "cell_type": "code",
      "source": [
        "#8. Generate a dataset and demonstrate positive and negative skewness.\n",
        "import numpy as np\n",
        "import matplotlib.pyplot as plt\n",
        "\n",
        "# Positive skewness\n",
        "data_pos = np.random.exponential(scale=2, size=1000)\n",
        "# Negative skewness (using beta distribution)\n",
        "data_neg = np.random.beta(a=5, b=2, size=1000) * 10\n",
        "\n",
        "plt.figure(figsize=(12, 5))\n",
        "plt.subplot(1, 2, 1)\n",
        "plt.hist(data_pos, bins=30, color='green', alpha=0.7)\n",
        "plt.title(\"Positive Skewness\")\n",
        "plt.subplot(1, 2, 2)\n",
        "plt.hist(data_neg, bins=30, color='red', alpha=0.7)\n",
        "plt.title(\"Negative Skewness\")\n",
        "plt.show()"
      ],
      "metadata": {
        "colab": {
          "base_uri": "https://localhost:8080/",
          "height": 468
        },
        "id": "NYWMrybN0DXy",
        "outputId": "918166a9-78bb-46fd-809b-58ef588d895b"
      },
      "execution_count": 11,
      "outputs": [
        {
          "output_type": "display_data",
          "data": {
            "text/plain": [
              "<Figure size 1200x500 with 2 Axes>"
            ],
            "image/png": "[encoded data removed]"
          },
          "metadata": {}
        }
      ]
    },
    {
      "cell_type": "code",
      "source": [
        "#9. Write a Python script to calculate covariance between two datasets.\n",
        "import numpy as np\n",
        "\n",
        "data1 = [1, 2, 3, 4, 5]\n",
        "data2 = [2, 4, 6, 8, 10]\n",
        "covariance = np.cov(data1, data2)[0, 1]\n",
        "\n",
        "print(f\"Covariance: {covariance}\")"
      ],
      "metadata": {
        "colab": {
          "base_uri": "https://localhost:8080/"
        },
        "id": "kFJRpSLz0HJf",
        "outputId": "e2196772-f79c-4b55-b586-62192fda741f"
      },
      "execution_count": 12,
      "outputs": [
        {
          "output_type": "stream",
          "name": "stdout",
          "text": [
            "Covariance: 5.0\n"
          ]
        }
      ]
    },
    {
      "cell_type": "code",
      "source": [
        "#10. Write a Python script to calculate the correlation coefficient between two datasets.\n",
        "import numpy as np\n",
        "\n",
        "data1 = [1, 2, 3, 4, 5]\n",
        "data2 = [2, 4, 6, 8, 10]\n",
        "correlation = np.corrcoef(data1, data2)[0, 1]\n",
        "\n",
        "print(f\"Correlation Coefficient: {correlation}\")"
      ],
      "metadata": {
        "colab": {
          "base_uri": "https://localhost:8080/"
        },
        "id": "IlS3NbnA0OyN",
        "outputId": "e13cf7b7-5641-40b3-ab63-4c36aeab11cd"
      },
      "execution_count": 13,
      "outputs": [
        {
          "output_type": "stream",
          "name": "stdout",
          "text": [
            "Correlation Coefficient: 0.9999999999999999\n"
          ]
        }
      ]
    },
    {
      "cell_type": "code",
      "source": [
        "#11. Create a scatter plot to visualize the relationship between two variables.\n",
        "import matplotlib.pyplot as plt\n",
        "import numpy as np\n",
        "\n",
        "x = [1, 2, 3, 4, 5]\n",
        "y = [2, 4, 6, 8, 10]\n",
        "plt.scatter(x, y, color='blue')\n",
        "plt.title(\"Scatter Plot\")\n",
        "plt.xlabel(\"X\")\n",
        "plt.ylabel(\"Y\")\n",
        "plt.show()"
      ],
      "metadata": {
        "colab": {
          "base_uri": "https://localhost:8080/",
          "height": 472
        },
        "id": "DhfxpHRW0Txm",
        "outputId": "94aeff29-8797-4f09-c682-99b21c992531"
      },
      "execution_count": 14,
      "outputs": [
        {
          "output_type": "display_data",
          "data": {
            "text/plain": [
              "<Figure size 640x480 with 1 Axes>"
            ],
            "image/png": "[encoded data removed]"
          },
          "metadata": {}
        }
      ]
    },
    {
      "cell_type": "code",
      "source": [
        "#12. Implement and compare simple random sampling and systematic sampling.\n",
        "import numpy as np\n",
        "\n",
        "data = np.arange(100)\n",
        "\n",
        "random_sample = np.random.choice(data, size=10, replace=False)\n",
        "\n",
        "step = 10\n",
        "systematic_sample = data[::step]\n",
        "\n",
        "print(f\"Random Sample: {random_sample}\")\n",
        "print(f\"Systematic Sample: {systematic_sample}\")"
      ],
      "metadata": {
        "colab": {
          "base_uri": "https://localhost:8080/"
        },
        "id": "-bHmQwNK0XWk",
        "outputId": "91694060-c37f-4adc-af4b-7e054da47731"
      },
      "execution_count": 17,
      "outputs": [
        {
          "output_type": "stream",
          "name": "stdout",
          "text": [
            "Random Sample: [65 53 22 49 26 16 89 55 45 18]\n",
            "Systematic Sample: [ 0 10 20 30 40 50 60 70 80 90]\n"
          ]
        }
      ]
    },
    {
      "cell_type": "code",
      "source": [
        "#13. Calculate the mean, median, and mode of grouped data.\n",
        "import numpy as np\n",
        "from scipy import stats\n",
        "\n",
        "midpoints = [5, 15, 25, 35]\n",
        "frequencies = [4, 6, 5, 3]\n",
        "data = np.repeat(midpoints, frequencies)\n",
        "\n",
        "mean = np.mean(data)\n",
        "median = np.median(data)\n",
        "mode = stats.mode(data).mode\n",
        "\n",
        "print(f\"Mean: {mean}, Median: {median}, Mode: {mode}\")"
      ],
      "metadata": {
        "colab": {
          "base_uri": "https://localhost:8080/"
        },
        "id": "cCcf79cz0f2V",
        "outputId": "38d4c851-3f69-456f-b7ee-c82dbebd51ca"
      },
      "execution_count": 19,
      "outputs": [
        {
          "output_type": "stream",
          "name": "stdout",
          "text": [
            "Mean: 18.88888888888889, Median: 15.0, Mode: 15\n"
          ]
        }
      ]
    },
    {
      "cell_type": "code",
      "source": [
        "#14. Simulate data using Python and calculate its central tendency and dispersion.\n",
        "import numpy as np\n",
        "from scipy import stats\n",
        "\n",
        "data = np.random.normal(loc=50, scale=5, size=1000)\n",
        "mean = np.mean(data)\n",
        "median = np.median(data)\n",
        "mode = stats.mode(data).mode\n",
        "variance = np.var(data)\n",
        "std_dev = np.std(data)\n",
        "\n",
        "print(f\"Mean: {mean}, Median: {median}, Mode: {mode}\")\n",
        "print(f\"Variance: {variance}, Standard Deviation: {std_dev}\")"
      ],
      "metadata": {
        "colab": {
          "base_uri": "https://localhost:8080/"
        },
        "id": "pYDd1Kut08Sr",
        "outputId": "0d060fee-8b5c-46b0-c44f-c168f16e6026"
      },
      "execution_count": 21,
      "outputs": [
        {
          "output_type": "stream",
          "name": "stdout",
          "text": [
            "Mean: 49.928236155265, Median: 50.12553635112646, Mode: 33.36269863605715\n",
            "Variance: 25.31023715020479, Standard Deviation: 5.030928060527679\n"
          ]
        }
      ]
    },
    {
      "cell_type": "code",
      "source": [
        "#15. Use NumPy or pandas to summarize a dataset’s descriptive statistics.\n",
        "import pandas as pd\n",
        "\n",
        "data = [1, 2, 3, 4, 4, 5, 10]\n",
        "df = pd.Series(data)\n",
        "summary = df.describe()\n",
        "\n",
        "print(summary)"
      ],
      "metadata": {
        "colab": {
          "base_uri": "https://localhost:8080/"
        },
        "id": "MndLk0Eb1OwB",
        "outputId": "334f63cd-bb83-4d8a-9103-9f8ec94eac3a"
      },
      "execution_count": 22,
      "outputs": [
        {
          "output_type": "stream",
          "name": "stdout",
          "text": [
            "count     7.000000\n",
            "mean      4.142857\n",
            "std       2.911390\n",
            "min       1.000000\n",
            "25%       2.500000\n",
            "50%       4.000000\n",
            "75%       4.500000\n",
            "max      10.000000\n",
            "dtype: float64\n"
          ]
        }
      ]
    },
    {
      "cell_type": "code",
      "source": [
        "#16. Plot a boxplot to understand the spread and identify outliers.\n",
        "import matplotlib.pyplot as plt\n",
        "\n",
        "data = [1, 2, 3, 4, 4, 5, 10]\n",
        "plt.boxplot(data)\n",
        "plt.title(\"Boxplot of Data\")\n",
        "plt.ylabel(\"Values\")\n",
        "plt.show()"
      ],
      "metadata": {
        "colab": {
          "base_uri": "https://localhost:8080/",
          "height": 452
        },
        "id": "XFyNmIhB1dJT",
        "outputId": "a699fae9-4acd-42c8-9892-2e5295d7b481"
      },
      "execution_count": 23,
      "outputs": [
        {
          "output_type": "display_data",
          "data": {
            "text/plain": [
              "<Figure size 640x480 with 1 Axes>"
            ],
            "image/png": "[encoded data removed]"
          },
          "metadata": {}
        }
      ]
    },
    {
      "cell_type": "code",
      "source": [
        "#17. Calculate the interquartile range (IQR) of a dataset.\n",
        "import numpy as np\n",
        "\n",
        "data = [1, 2, 3, 4, 4, 5, 10]\n",
        "Q1 = np.percentile(data, 25)\n",
        "Q3 = np.percentile(data, 75)\n",
        "IQR = Q3 - Q1\n",
        "\n",
        "print(f\"IQR: {IQR}\")"
      ],
      "metadata": {
        "colab": {
          "base_uri": "https://localhost:8080/"
        },
        "id": "4hNDKtoF1mAp",
        "outputId": "542bb466-37f6-46ad-dd35-2920a31fb2f8"
      },
      "execution_count": 24,
      "outputs": [
        {
          "output_type": "stream",
          "name": "stdout",
          "text": [
            "IQR: 2.0\n"
          ]
        }
      ]
    },
    {
      "cell_type": "code",
      "source": [
        "#18. Implement Z-score normalization and explain its significance.\n",
        "import numpy as np\n",
        "\n",
        "data = [1, 2, 3, 4, 4, 5, 10]\n",
        "mean = np.mean(data)\n",
        "std_dev = np.std(data)\n",
        "z_scores = (data - mean) / std_dev\n",
        "\n",
        "print(f\"Z-scores: {z_scores}\")"
      ],
      "metadata": {
        "colab": {
          "base_uri": "https://localhost:8080/"
        },
        "id": "F6r8DvpQ1tAP",
        "outputId": "f01a1498-f6dd-4e36-def9-6824cee60f8c"
      },
      "execution_count": 25,
      "outputs": [
        {
          "output_type": "stream",
          "name": "stdout",
          "text": [
            "Z-scores: [-1.16599767 -0.79499841 -0.42399915 -0.05299989 -0.05299989  0.31799936\n",
            "  2.17299565]\n"
          ]
        }
      ]
    },
    {
      "cell_type": "code",
      "source": [
        "#19. Compare two datasets using their standard deviation.\n",
        "import numpy as np\n",
        "\n",
        "data1 = [1, 2, 3, 4, 5]\n",
        "data2 = [10, 20, 30, 40, 50]\n",
        "std1 = np.std(data1)\n",
        "std2 = np.std(data2)\n",
        "\n",
        "print(f\"Standard Deviation of data1: {std1}\")\n",
        "print(f\"Standard Deviation of data2: {std2}\")\n",
        "print(\"Data2 has a larger spread compared to data1.\")"
      ],
      "metadata": {
        "colab": {
          "base_uri": "https://localhost:8080/"
        },
        "id": "OMHWcHNn1wqY",
        "outputId": "46bf7994-6dcf-4d10-87e9-f6d51a0d6388"
      },
      "execution_count": 26,
      "outputs": [
        {
          "output_type": "stream",
          "name": "stdout",
          "text": [
            "Standard Deviation of data1: 1.4142135623730951\n",
            "Standard Deviation of data2: 14.142135623730951\n",
            "Data2 has a larger spread compared to data1.\n"
          ]
        }
      ]
    },
    {
      "cell_type": "code",
      "source": [
        "#20. Write a Python program to visualize covariance using a heatmap.\n",
        "import numpy as np\n",
        "import seaborn as sns\n",
        "import matplotlib.pyplot as plt\n",
        "\n",
        "data = np.array([[1, 2, 3, 4, 5], [2, 4, 6, 8, 10]])\n",
        "cov_matrix = np.cov(data)\n",
        "\n",
        "sns.heatmap(cov_matrix, annot=True, cmap='coolwarm')\n",
        "plt.title(\"Covariance Heatmap\")\n",
        "plt.show()"
      ],
      "metadata": {
        "colab": {
          "base_uri": "https://localhost:8080/",
          "height": 452
        },
        "id": "-CcexHGd11oz",
        "outputId": "2939a420-1894-4203-a073-c9f8d357d838"
      },
      "execution_count": 27,
      "outputs": [
        {
          "output_type": "display_data",
          "data": {
            "text/plain": [
              "<Figure size 640x480 with 2 Axes>"
            ],
            "image/png": "[encoded data removed]"
          },
          "metadata": {}
        }
      ]
    },
    {
      "cell_type": "code",
      "source": [
        "#21. Use seaborn to create a correlation matrix for a dataset.\n",
        "import pandas as pd\n",
        "import seaborn as sns\n",
        "import matplotlib.pyplot as plt\n",
        "\n",
        "data = pd.DataFrame({\n",
        "    'A': [1, 2, 3, 4, 5],\n",
        "    'B': [2, 4, 6, 8, 10]\n",
        "})\n",
        "corr_matrix = data.corr()\n",
        "\n",
        "sns.heatmap(corr_matrix, annot=True, cmap='coolwarm')\n",
        "plt.title(\"Correlation Matrix\")\n",
        "plt.show()"
      ],
      "metadata": {
        "colab": {
          "base_uri": "https://localhost:8080/",
          "height": 452
        },
        "id": "DB4aa42j19J-",
        "outputId": "bb57eb42-0bee-4cc5-9c66-5396fe6764dd"
      },
      "execution_count": 28,
      "outputs": [
        {
          "output_type": "display_data",
          "data": {
            "text/plain": [
              "<Figure size 640x480 with 2 Axes>"
            ],
            "image/png": "[encoded data removed]"
          },
          "metadata": {}
        }
      ]
    },
    {
      "cell_type": "code",
      "source": [
        "#22. Generate a dataset and implement both variance and standard deviation computations.\n",
        "import numpy as np\n",
        "\n",
        "data = np.random.normal(loc=50, scale=5, size=1000)\n",
        "variance = np.var(data)\n",
        "std_dev = np.std(data)\n",
        "\n",
        "print(f\"Variance: {variance}, Standard Deviation: {std_dev}\")"
      ],
      "metadata": {
        "colab": {
          "base_uri": "https://localhost:8080/"
        },
        "id": "TPp2u2Oe2A26",
        "outputId": "e2a1771a-cb55-47f0-b1b6-28a98753f265"
      },
      "execution_count": 29,
      "outputs": [
        {
          "output_type": "stream",
          "name": "stdout",
          "text": [
            "Variance: 25.339902150093476, Standard Deviation: 5.033875460328104\n"
          ]
        }
      ]
    },
    {
      "cell_type": "code",
      "source": [
        "#23. Visualize skewness and kurtosis using Python libraries like matplotlib or seaborn.\n",
        "import numpy as np\n",
        "import seaborn as sns\n",
        "import matplotlib.pyplot as plt\n",
        "from scipy.stats import skew, kurtosis\n",
        "\n",
        "data = np.random.exponential(scale=2, size=1000)\n",
        "sns.histplot(data, kde=True, color='blue')\n",
        "plt.title(f\"Skewness: {skew(data):.2f}, Kurtosis: {kurtosis(data):.2f}\")\n",
        "plt.show()"
      ],
      "metadata": {
        "colab": {
          "base_uri": "https://localhost:8080/",
          "height": 452
        },
        "id": "MmL1AQPK2Ilp",
        "outputId": "2b827c20-534f-4729-8be7-48fea03d8de6"
      },
      "execution_count": 30,
      "outputs": [
        {
          "output_type": "display_data",
          "data": {
            "text/plain": [
              "<Figure size 640x480 with 1 Axes>"
            ],
            "image/png": "[encoded data removed]"
          },
          "metadata": {}
        }
      ]
    },
    {
      "cell_type": "code",
      "source": [
        "#24. Implement the Pearson and Spearman correlation coefficients for a dataset.\n",
        "import numpy as np\n",
        "from scipy.stats import pearsonr, spearmanr\n",
        "\n",
        "data1 = [1, 2, 3, 4, 5]\n",
        "data2 = [2, 4, 6, 8, 10]\n",
        "pearson_corr, _ = pearsonr(data1, data2)\n",
        "spearman_corr, _ = spearmanr(data1, data2)\n",
        "\n",
        "print(f\"Pearson Correlation: {pearson_corr}\")\n",
        "print(f\"Spearman Correlation: {spearman_corr}\")"
      ],
      "metadata": {
        "colab": {
          "base_uri": "https://localhost:8080/"
        },
        "id": "vdjyxCf22Nxl",
        "outputId": "0b7eb3ee-9871-472a-f6ca-5d2e76593ce0"
      },
      "execution_count": 31,
      "outputs": [
        {
          "output_type": "stream",
          "name": "stdout",
          "text": [
            "Pearson Correlation: 1.0\n",
            "Spearman Correlation: 0.9999999999999999\n"
          ]
        }
      ]
    }
  ]
}