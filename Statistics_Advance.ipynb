{
  "nbformat": 4,
  "nbformat_minor": 0,
  "metadata": {
    "colab": {
      "provenance": [],
      "authorship_tag": "ABX9TyOGUzQub0uV4gT17P25qnLS",
      "include_colab_link": true
    },
    "kernelspec": {
      "name": "python3",
      "display_name": "Python 3"
    },
    "language_info": {
      "name": "python"
    }
  },
  "cells": [
    {
      "cell_type": "markdown",
      "metadata": {
        "id": "view-in-github",
        "colab_type": "text"
      },
      "source": [
        "<a href=\"https://colab.research.google.com/github/sohrab4u/Data_Tools/blob/main/Statistics_Advance.ipynb\" target=\"_parent\"><img src=\"https://colab.research.google.com/assets/colab-badge.svg\" alt=\"Open In Colab\"/></a>"
      ]
    },
    {
      "cell_type": "markdown",
      "source": [
        "**Statistics Advance**"
      ],
      "metadata": {
        "id": "X54Qykw766XM"
      }
    },
    {
      "cell_type": "markdown",
      "source": [
        "1. What is a random variable in probability theory?\n",
        "  - A random variable is a function that assigns numerical values to outcomes of a random experiment, e.g., rolling a die (values 1 to 6)."
      ],
      "metadata": {
        "id": "OHNh67_r696I"
      }
    },
    {
      "cell_type": "markdown",
      "source": [
        "2. What are the types of random variables?\n",
        "  - There are two types: discrete (e.g., number of heads in coin flips) and continuous (e.g., height of a person)."
      ],
      "metadata": {
        "id": "rNrIS-bz7LXc"
      }
    },
    {
      "cell_type": "markdown",
      "source": [
        "3. What is the difference between discrete and continuous distributions?\n",
        "  - Discrete distributions apply to countable outcomes (e.g., Poisson), while continuous distributions apply to uncountable outcomes (e.g., Normal)."
      ],
      "metadata": {
        "id": "ABoLY2YA7Rsq"
      }
    },
    {
      "cell_type": "markdown",
      "source": [
        "4. What are the probability distribution functions (PDF)?\n",
        "  - A PDF describes the likelihood of a continuous random variable taking a specific value, e.g., the bell curve for a Normal distribution."
      ],
      "metadata": {
        "id": "h59etqOi7XYm"
      }
    },
    {
      "cell_type": "markdown",
      "source": [
        "How do cumulative distribution functions (CDF) differ from probability distribution functions (PDF)?\n",
        "  - A PDF gives the probability density at a point, while a CDF gives the cumulative probability up to that point, i.e., $ CDF(x) = P(X \\leq x) $."
      ],
      "metadata": {
        "id": "FCI09dr97cgq"
      }
    },
    {
      "cell_type": "markdown",
      "source": [
        "6. What is a discrete uniform distribution?\n",
        "  - A discrete uniform distribution assigns equal probability to each outcome in a finite set, e.g., rolling a fair die (probability 1/6 for each face)."
      ],
      "metadata": {
        "id": "-qIh1_CF7hfm"
      }
    },
    {
      "cell_type": "markdown",
      "source": [
        "7. What are the key properties of a Bernoulli distribution?\n",
        "  - A Bernoulli distribution models a single trial with two outcomes (success/failure), with $ P(X=1) = p $ and $ P(X=0) = 1-p $, mean $ p $, variance $ p(1-p) $."
      ],
      "metadata": {
        "id": "zuooUrUt7mmL"
      }
    },
    {
      "cell_type": "markdown",
      "source": [
        "8. What is the binomial distribution, and how is it used in probability?\n",
        "  - A binomial distribution models the number of successes in $ n $ independent Bernoulli trials, with $ P(X=k) = \\binom{n}{k} p^k (1-p)^{n-k} $, used for scenarios like coin flips."
      ],
      "metadata": {
        "id": "wuX5X4VB7sme"
      }
    },
    {
      "cell_type": "markdown",
      "source": [
        "9. What is the Poisson distribution, and where is it applied?\n",
        "  - A Poisson distribution models the number of events in a fixed interval, e.g., calls per hour, with $ P(X=k) = \\frac{\\lambda^k e^{-\\lambda}}{k!} $, used in queuing theory."
      ],
      "metadata": {
        "id": "-lTmY1e-7yZU"
      }
    },
    {
      "cell_type": "markdown",
      "source": [
        "10. What is a continuous uniform distribution?\n",
        "  - A continuous uniform distribution has equal probability density over an interval $[a, b]$, with PDF $ f(x) = \\frac{1}{b-a} $ for $ x \\in [a, b] $."
      ],
      "metadata": {
        "id": "RZcR4Zla731Y"
      }
    },
    {
      "cell_type": "markdown",
      "source": [
        "11. What are the characteristics of a normal distribution?\n",
        "  - A normal distribution is bell-shaped, symmetric, with mean $ \\mu $ and standard deviation $ \\sigma $, following the 68-95-99.7 rule for data spread."
      ],
      "metadata": {
        "id": "FL7U_rI_792s"
      }
    },
    {
      "cell_type": "markdown",
      "source": [
        "12. What is the standard normal distribution, and why is it important?\n",
        "  - The standard normal distribution has $ \\mu = 0 $, $ \\sigma = 1 $, used to standardize data (via Z-scores) for probability calculations."
      ],
      "metadata": {
        "id": "syPaSBHf8C4O"
      }
    },
    {
      "cell_type": "markdown",
      "source": [
        "13. What is the Central Limit Theorem (CLT), and why is it critical in statistics?\n",
        "  - The CLT states that the sum of many independent random variables approaches a normal distribution, enabling statistical inference for large samples."
      ],
      "metadata": {
        "id": "MHVfRMPa8HtL"
      }
    },
    {
      "cell_type": "markdown",
      "source": [
        "14. How does the Central Limit Theorem relate to the normal distribution?\n",
        "  - The CLT explains why sample means are normally distributed for large $ n $, even if the population distribution is not normal."
      ],
      "metadata": {
        "id": "T5ePjVSa8NlE"
      }
    },
    {
      "cell_type": "markdown",
      "source": [
        "15. What is the application of Z-statistics in hypothesis testing?\n",
        "  - Z-statistics (Z-scores) are used to test hypotheses by comparing sample means to population means, assuming normality, e.g., in a Z-test."
      ],
      "metadata": {
        "id": "dwTCXAv28SYc"
      }
    },
    {
      "cell_type": "markdown",
      "source": [],
      "metadata": {
        "id": "2mW5nb-S8XP9"
      }
    },
    {
      "cell_type": "markdown",
      "source": [
        "16. How do you calculate a Z-score, and what does it represent?\n",
        "  - Z-score is calculated as $ Z = \\frac{x - \\mu}{\\sigma} $, representing how many standard deviations $ x $ is from the mean $ \\mu $."
      ],
      "metadata": {
        "id": "wG0r2BOU8XRL"
      }
    },
    {
      "cell_type": "markdown",
      "source": [
        "17. What are point estimates and interval estimates in statistics?\n",
        "  - A point estimate is a single value (e.g., sample mean), while an interval estimate is a range (e.g., confidence interval) for a parameter."
      ],
      "metadata": {
        "id": "R7Is8Y9f8dLg"
      }
    },
    {
      "cell_type": "markdown",
      "source": [
        "18. What is the significance of confidence intervals in statistical analysis?\n",
        "  - Confidence intervals provide a range of plausible values for a parameter, with a confidence level (e.g., 95%) indicating reliability."
      ],
      "metadata": {
        "id": "q-peTYxn8ixM"
      }
    },
    {
      "cell_type": "markdown",
      "source": [
        "19. What is the relationship between a Z-score and a confidence interval?\n",
        "  - Z-scores determine the critical values (e.g., $ \\pm 1.96 $ for 95% CI) used to calculate the margin of error in a confidence interval."
      ],
      "metadata": {
        "id": "fmiKkPKy8oJ-"
      }
    },
    {
      "cell_type": "markdown",
      "source": [
        "20. How are Z-scores used to compare different distributions?\n",
        "  - Z-scores standardize data, allowing comparison across distributions by measuring how far a value is from its mean in standard deviation units."
      ],
      "metadata": {
        "id": "E-vnR1kr8t7m"
      }
    },
    {
      "cell_type": "markdown",
      "source": [
        "21. What are the assumptions for applying the Central Limit Theorem?\n",
        "  - The CLT assumes independent, identically distributed variables with a finite mean and variance, and a sufficiently large sample size ($ n \\geq 30 $)."
      ],
      "metadata": {
        "id": "jksoJ7po8z-e"
      }
    },
    {
      "cell_type": "markdown",
      "source": [
        "22. What is the concept of expected value in a probability distribution?\n",
        "  - The expected value, $ E(X) = \\sum x_i P(x_i) $ (discrete) or $ \\int x f(x) dx $ (continuous), is the average outcome of a random variable."
      ],
      "metadata": {
        "id": "bi706KW2842E"
      }
    },
    {
      "cell_type": "markdown",
      "source": [
        "23. How does a probability distribution relate to the expected outcome of a random variable?\n",
        "  - A probability distribution provides the probabilities of all outcomes, and the expected outcome is the weighted average (expected value) of those outcomes."
      ],
      "metadata": {
        "id": "7_yPYxhu8-Be"
      }
    },
    {
      "cell_type": "markdown",
      "source": [],
      "metadata": {
        "id": "gVpHHN4n9Dis"
      }
    }
  ]
}