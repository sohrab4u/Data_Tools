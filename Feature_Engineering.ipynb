{
  "nbformat": 4,
  "nbformat_minor": 0,
  "metadata": {
    "colab": {
      "provenance": [],
      "authorship_tag": "ABX9TyPdhUNHF0akOx8+zMa6uNNM",
      "include_colab_link": true
    },
    "kernelspec": {
      "name": "python3",
      "display_name": "Python 3"
    },
    "language_info": {
      "name": "python"
    }
  },
  "cells": [
    {
      "cell_type": "markdown",
      "metadata": {
        "id": "view-in-github",
        "colab_type": "text"
      },
      "source": [
        "<a href=\"https://colab.research.google.com/github/sohrab4u/Data_Tools/blob/main/Feature_Engineering.ipynb\" target=\"_parent\"><img src=\"https://colab.research.google.com/assets/colab-badge.svg\" alt=\"Open In Colab\"/></a>"
      ]
    },
    {
      "cell_type": "markdown",
      "source": [
        "**Feature Engineering**"
      ],
      "metadata": {
        "id": "j_34YpA8fSzM"
      }
    },
    {
      "cell_type": "markdown",
      "source": [
        "1. What is a parameter?\n",
        "  - A parameter is a variable in a model that is learned from the data during training, e.g., weights in a linear regression."
      ],
      "metadata": {
        "id": "IVbaXLOGfVdb"
      }
    },
    {
      "cell_type": "markdown",
      "source": [
        "2. What is correlation?\n",
        "  - Correlation measures the strength and direction of a relationship between two variables."
      ],
      "metadata": {
        "id": "ZZTb2-A_fbmS"
      }
    },
    {
      "cell_type": "markdown",
      "source": [
        "3. What does negative correlation mean?\n",
        "  - Negative correlation means that as one variable increases, the other decreases."
      ],
      "metadata": {
        "id": "lvxSWPZDfhWZ"
      }
    },
    {
      "cell_type": "markdown",
      "source": [
        "4. Define Machine Learning. What are the main components in Machine Learning?\n",
        "  - Machine Learning is the process of teaching computers to learn from data. Main components include data, model, algorithm, training, and evaluation."
      ],
      "metadata": {
        "id": "sEy1sge3fojp"
      }
    },
    {
      "cell_type": "markdown",
      "source": [
        "5. How does loss value help in determining whether the model is good or not?\n",
        "  - A lower loss value indicates a better model fit to the data, showing higher accuracy."
      ],
      "metadata": {
        "id": "ZvFPmsByfwJ5"
      }
    },
    {
      "cell_type": "markdown",
      "source": [
        "6. What are continuous and categorical variables?\n",
        "  - Continuous variables are numeric (e.g., height), while categorical variables are discrete (e.g., gender)."
      ],
      "metadata": {
        "id": "1Ql24aOif4Nz"
      }
    },
    {
      "cell_type": "markdown",
      "source": [
        "7. How do we handle categorical variables in Machine Learning? What are the common techniques?\n",
        "  - Use techniques like one-hot encoding, label encoding, or target encoding to convert categorical variables into numerical form."
      ],
      "metadata": {
        "id": "bFqlCSSAf9n8"
      }
    },
    {
      "cell_type": "markdown",
      "source": [
        "8. What do you mean by training and testing a dataset?\n",
        "  - Training uses data to build the model, while testing evaluates its performance on unseen data."
      ],
      "metadata": {
        "id": "-aMOFud2gGOx"
      }
    },
    {
      "cell_type": "markdown",
      "source": [
        "9. What is sklearn.preprocessing?\n",
        "  - sklearn.preprocessing is a module in scikit-learn for scaling, transforming, and encoding data."
      ],
      "metadata": {
        "id": "B7i6SP7zgKAE"
      }
    },
    {
      "cell_type": "markdown",
      "source": [
        "10. What is a Test set?\n",
        "  - A test set is a portion of data used to evaluate the model's performance after training."
      ],
      "metadata": {
        "id": "L4M_yiJogPjL"
      }
    },
    {
      "cell_type": "markdown",
      "source": [
        "11. How do we split data for model fitting (training and testing) in Python?\n",
        "  - Use train_test_split from sklearn: from sklearn.model_selection import train_test_split."
      ],
      "metadata": {
        "id": "L-Dco91qgWH5"
      }
    },
    {
      "cell_type": "markdown",
      "source": [
        "12. How do you approach a Machine Learning problem?\n",
        "  - Define the problem, collect and preprocess data, select a model, train, evaluate, and tune it."
      ],
      "metadata": {
        "id": "D-hcpQyUgbyT"
      }
    },
    {
      "cell_type": "markdown",
      "source": [
        "13. Why do we have to perform EDA before fitting a model to the data?\n",
        "  - EDA (Exploratory Data Analysis) helps understand data patterns, detect anomalies, and guide model selection."
      ],
      "metadata": {
        "id": "VW0LLrDjgiop"
      }
    },
    {
      "cell_type": "markdown",
      "source": [
        "14. What is correlation?\n",
        "  - Correlation measures the strength and direction of a relationship between two variables."
      ],
      "metadata": {
        "id": "2esjPqmSgq9p"
      }
    },
    {
      "cell_type": "markdown",
      "source": [
        "15. What does negative correlation mean?\n",
        "  - Negative correlation means that as one variable increases, the other decreases."
      ],
      "metadata": {
        "id": "RYUVGf2hgzsX"
      }
    },
    {
      "cell_type": "markdown",
      "source": [
        "16. How can you find correlation between variables in Python?\n",
        "  - Use df.corr() from pandas to compute the correlation matrix."
      ],
      "metadata": {
        "id": "MZl_Cskyg5Za"
      }
    },
    {
      "cell_type": "markdown",
      "source": [
        "17. What is causation? Explain difference between correlation and causation with an example.\n",
        "  - Causation means one variable causes another. Correlation shows a relationship (e.g., ice cream sales and temperature correlate, but temperature causes sales, not vice versa)."
      ],
      "metadata": {
        "id": "ILgWaF1Og_ZB"
      }
    },
    {
      "cell_type": "markdown",
      "source": [
        "18. What is an Optimizer? What are different types of optimizers? Explain each with an example.\n",
        "  - An optimizer adjusts model parameters. Types include SGD (Stochastic Gradient Descent) and Adam (adaptive learning rate optimization)."
      ],
      "metadata": {
        "id": "WyGhqqthhJzC"
      }
    },
    {
      "cell_type": "markdown",
      "source": [
        "19. What is sklearn.linear_model?\n",
        "  - sklearn.linear_model provides tools for linear models like LinearRegression in scikit-learn."
      ],
      "metadata": {
        "id": "7TFyESSihdNU"
      }
    },
    {
      "cell_type": "markdown",
      "source": [
        "20. What does model.fit() do? What arguments must be given?\n",
        "  - model.fit() trains the model. Requires X (features) and y (target) as arguments."
      ],
      "metadata": {
        "id": "MSdKv_pRhjvO"
      }
    },
    {
      "cell_type": "markdown",
      "source": [
        "21. What does model.predict() do? What arguments must be given?\n",
        "  - model.predict() makes predictions. Requires X (features) as an argument."
      ],
      "metadata": {
        "id": "kiq5RUalhm3O"
      }
    },
    {
      "cell_type": "markdown",
      "source": [
        "22. What are continuous and categorical variables?\n",
        "  - Continuous variables are numeric (e.g., height), while categorical variables are discrete (e.g., gender)."
      ],
      "metadata": {
        "id": "2qBb-y1QhtLE"
      }
    },
    {
      "cell_type": "markdown",
      "source": [
        "23. What is feature scaling? How does it help in Machine Learning?\n",
        "  - Feature scaling normalizes data (e.g., to 0-1 range) to ensure equal importance of features during training."
      ],
      "metadata": {
        "id": "dO2p6Ul4hxRh"
      }
    },
    {
      "cell_type": "markdown",
      "source": [
        "24. How do we perform scaling in Python?\n",
        "  - Use StandardScaler or MinMaxScaler from sklearn: from sklearn.preprocessing import StandardScaler."
      ],
      "metadata": {
        "id": "VrOYkFpeh2Wx"
      }
    },
    {
      "cell_type": "markdown",
      "source": [
        "25. What is sklearn.preprocessing?\n",
        "  - sklearn.preprocessing is a module in scikit-learn for scaling, transforming, and encoding data."
      ],
      "metadata": {
        "id": "O7jJ2Y7nh7k3"
      }
    },
    {
      "cell_type": "markdown",
      "source": [
        "26. How do we split data for model fitting (training and testing) in Python?\n",
        "  - Use train_test_split from sklearn: from sklearn.model_selection import train_test_split."
      ],
      "metadata": {
        "id": "xbVs09frh_Pz"
      }
    },
    {
      "cell_type": "markdown",
      "source": [
        "27. Explain data encoding?\n",
        "  - Data encoding converts categorical data into numerical format (e.g., one-hot encoding) for model compatibility."
      ],
      "metadata": {
        "id": "8Ji1oQ9liGCg"
      }
    }
  ]
}